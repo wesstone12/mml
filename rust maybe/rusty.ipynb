{
 "cells": [
  {
   "cell_type": "code",
   "execution_count": 2,
   "metadata": {
    "vscode": {
     "languageId": "rust"
    }
   },
   "outputs": [
    {
     "name": "stdout",
     "output_type": "stream",
     "text": [
      "Hello, world!\n"
     ]
    }
   ],
   "source": [
    "//  hello world in rust\n",
    "\n",
    "println!(\"Hello, world!\");\n"
   ]
  },
  {
   "cell_type": "code",
   "execution_count": 12,
   "metadata": {
    "vscode": {
     "languageId": "rust"
    }
   },
   "outputs": [],
   "source": [
    ":dep ndarray = {version = \"0.15.6\"}\n",
    ":dep rand = {version = \"0.8.5\"}\n",
    ":dep rand_distr = {version = \"0.4.2\"}"
   ]
  },
  {
   "cell_type": "code",
   "execution_count": 17,
   "metadata": {
    "vscode": {
     "languageId": "rust"
    }
   },
   "outputs": [],
   "source": [
    "use ndarray::Array2;\n",
    "use rand::rngs::ThreadRng;\n",
    "use rand::SeedableRng; // If you need a specific seed for reproducibility\n",
    "use rand_distr::{Distribution, StandardNormal}; // Corrected import path\n",
    "use std::time::Instant;\n",
    "\n",
    "fn main() {\n",
    "    let shape = (1000, 1000);\n",
    "    let mut rng = rand::thread_rng();  // For non-deterministic RNG\n",
    "    // let mut rng = rand::rngs::StdRng::seed_from_u64(42); // For deterministic RNG\n",
    "    let a = random_array2(shape, &mut rng);\n",
    "    let b = random_array2(shape, &mut rng);\n",
    "\n",
    "    let start = Instant::now();\n",
    "    let _c = a.dot(&b);  // Assign to _c to avoid unused variable warning\n",
    "    let duration = start.elapsed();\n",
    "\n",
    "    _c;\n",
    "\n",
    "    println!(\"Rust ndarray execution time: {:?}\", duration);\n",
    "}\n",
    "\n",
    "fn random_array2((rows, cols): (usize, usize), rng: &mut ThreadRng) -> Array2<f64> {\n",
    "    let normal = StandardNormal;\n",
    "    Array2::from_shape_fn((rows, cols), |_| normal.sample(rng))\n",
    "}\n"
   ]
  },
  {
   "cell_type": "code",
   "execution_count": 18,
   "metadata": {
    "vscode": {
     "languageId": "rust"
    }
   },
   "outputs": [
    {
     "name": "stdout",
     "output_type": "stream",
     "text": [
      "Rust ndarray execution time: 49.4075ms\n"
     ]
    },
    {
     "data": {
      "text/plain": [
       "()"
      ]
     },
     "execution_count": 18,
     "metadata": {},
     "output_type": "execute_result"
    }
   ],
   "source": [
    "main()"
   ]
  },
  {
   "cell_type": "code",
   "execution_count": 23,
   "metadata": {
    "vscode": {
     "languageId": "rust"
    }
   },
   "outputs": [],
   "source": [
    "use ndarray::Array2;\n",
    "use rand::rngs::ThreadRng;\n",
    "use rand::Rng; // For general random number generation methods\n",
    "use rand_distr::Normal; // Correct import path for Normal\n",
    "use std::time::Instant;\n",
    "\n",
    "fn main() {\n",
    "    let shape = (10000, 10000);\n",
    "    let mut rng = rand::thread_rng();\n",
    "    let a = random_array2(shape, &mut rng);\n",
    "    let b = random_array2(shape, &mut rng);\n",
    "\n",
    "    let start = Instant::now();\n",
    "    let c = a.dot(&b);\n",
    "    let duration = start.elapsed();\n",
    "\n",
    "    println!(\"Rust ndarray execution time: {:?}\", duration);\n",
    "\n",
    "    // Print dimensions of the result\n",
    "    println!(\"Result matrix dimensions: {:?}\", c.dim());\n",
    "\n",
    "    // Calculate and print the sum of all elements in the result matrix\n",
    "    let sum: f64 = c.sum();\n",
    "    println!(\"Sum of all elements in result matrix: {}\", sum);\n",
    "\n",
    "    // Correctly calculate and print the mean of all elements\n",
    "    let mean: f64 = sum / (c.nrows() * c.ncols()) as f64; // Corrected method usage and conversion\n",
    "    println!(\"Mean of all elements in result matrix: {}\", mean);\n",
    "}\n",
    "\n",
    "fn random_array2((rows, cols): (usize, usize), rng: &mut ThreadRng) -> Array2<f64> {\n",
    "    let normal = Normal::new(0.0, 1.0).unwrap();\n",
    "    Array2::from_shape_fn((rows, cols), |_| rng.sample(normal))\n",
    "}\n"
   ]
  },
  {
   "cell_type": "code",
   "execution_count": 24,
   "metadata": {
    "vscode": {
     "languageId": "rust"
    }
   },
   "outputs": [
    {
     "name": "stdout",
     "output_type": "stream",
     "text": [
      "Rust ndarray execution time: 51.425619s\n",
      "Result matrix dimensions: (10000, 10000)\n",
      "Sum of all elements in result matrix: -242770.82083002926\n",
      "Mean of all elements in result matrix: -0.0024277082083002926\n"
     ]
    },
    {
     "data": {
      "text/plain": [
       "()"
      ]
     },
     "execution_count": 24,
     "metadata": {},
     "output_type": "execute_result"
    }
   ],
   "source": [
    "main()"
   ]
  }
 ],
 "metadata": {
  "kernelspec": {
   "display_name": "Rust",
   "language": "rust",
   "name": "rust"
  },
  "language_info": {
   "codemirror_mode": "rust",
   "file_extension": ".rs",
   "mimetype": "text/rust",
   "name": "Rust",
   "pygment_lexer": "rust",
   "version": ""
  }
 },
 "nbformat": 4,
 "nbformat_minor": 2
}
